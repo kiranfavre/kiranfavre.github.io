{
  "cells": [
    {
      "cell_type": "raw",
      "metadata": {},
      "source": [
        "---\n",
        "title: \"Accessing iNaturalist Data Using GBIF\"\n",
        "description: A tutuorial for using data from the Global Biodiversity Information Facilitiy (GBIF).\n",
        "\n",
        "editor: visual\n",
        "author:\n",
        "  - name: Kiran Favre\n",
        "    url: https://kiranfavre.github.io\n",
        "    affiliation: Master of Environmental Data Science\n",
        "    affiliation-url: https://ucsb-meds.github.io/\n",
        "date: 12-02-2022\n",
        "citation: \n",
        "  url: https://kiranfavre.github.io/posts/2022-12-02-python-inaturalist/ \n",
        "categories: [Python, API]\n",
        "format:\n",
        "  html:\n",
        "    code-fold: false\n",
        "    code-summary: \"Show code\"\n",
        "image: pic.JPG\n",
        "---"
      ],
      "id": "c208f1bd"
    },
    {
      "cell_type": "markdown",
      "metadata": {},
      "source": [
        "This repository is for our tutorial for using data from the [Global Biodiversity Information Facilitiy (GBIF)](https://www.gbif.org/). In collaboration with classmates Jillian Allison and Erica Bishop, we will be using an occurrence dataset about [iNaturalist Research Grade Observations](https://www.gbif.org/dataset/50c9509d-22c7-4a22-a47d-8c48425ef4a7). This blog will include an installation guide to get started using GBIF.\n",
        "\n",
        "This repository includes a Jupyter Notebook with the tutorial for EDS 220 Working With Environmental Data at UC Santa Barbara (Fall 2021 quarter).\n"
      ],
      "id": "823fd987"
    }
  ],
  "metadata": {
    "kernelspec": {
      "display_name": "Python 3",
      "language": "python",
      "name": "python3"
    }
  },
  "nbformat": 4,
  "nbformat_minor": 5
}